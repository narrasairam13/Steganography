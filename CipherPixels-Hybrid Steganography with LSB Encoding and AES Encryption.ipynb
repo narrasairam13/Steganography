{
 "cells": [
  {
   "cell_type": "code",
   "execution_count": 2,
   "id": "812e1ef3-c20d-4ddf-b602-f48fd076fa73",
   "metadata": {},
   "outputs": [
    {
     "name": "stdin",
     "output_type": "stream",
     "text": [
      "Enter your secret message:  Hello this message is secret.\n",
      "Enter a password for encryption:  1324\n"
     ]
    },
    {
     "name": "stdout",
     "output_type": "stream",
     "text": [
      "✅ Message successfully embedded in stego_image.png\n",
      "\n",
      "🔁 Re-enter your password to unlock the message.\n"
     ]
    },
    {
     "name": "stdin",
     "output_type": "stream",
     "text": [
      "Re-enter password:  1324\n"
     ]
    },
    {
     "name": "stdout",
     "output_type": "stream",
     "text": [
      "\n",
      "🔓 Original message: Hello this message is secret.\n"
     ]
    }
   ],
   "source": [
    "from Crypto.Cipher import AES\n",
    "from Crypto.Util.Padding import pad, unpad\n",
    "from Crypto.Random import get_random_bytes\n",
    "import hashlib\n",
    "from PIL import Image\n",
    "import numpy as np\n",
    "\n",
    "# Encrypt the message using AES\n",
    "def encrypt_message(message, password):\n",
    "    key = hashlib.sha256(password.encode()).digest()\n",
    "    iv = get_random_bytes(16)\n",
    "    cipher = AES.new(key, AES.MODE_CBC, iv)\n",
    "    ciphertext = cipher.encrypt(pad(message.encode(), AES.block_size))\n",
    "    return iv + ciphertext\n",
    "\n",
    "# Embed encrypted data into image using LSB\n",
    "def embed_data(image_path, data, output_path):\n",
    "    image = Image.open(image_path).convert(\"RGB\")\n",
    "    data_bits = ''.join(format(byte, '08b') for byte in data) + '1111111111111110'\n",
    "    np_pixels = np.array(image).flatten()\n",
    "\n",
    "    if len(data_bits) > len(np_pixels):\n",
    "        raise ValueError(\"Message too large to embed in image.\")\n",
    "\n",
    "    for i in range(len(data_bits)):\n",
    "        np_pixels[i] = (np_pixels[i] & ~1) | int(data_bits[i])\n",
    "\n",
    "    new_image = Image.fromarray(np_pixels.reshape(image.size[1], image.size[0], 3).astype('uint8'), \"RGB\")\n",
    "    new_image.save(output_path)\n",
    "    print(\"✅ Message successfully embedded in\", output_path)\n",
    "\n",
    "# Extract encrypted data from image\n",
    "def extract_encrypted_data(stego_path):\n",
    "    image = Image.open(stego_path).convert(\"RGB\")\n",
    "    flat = np.array(image).flatten()\n",
    "    bits = ''\n",
    "    for pixel in flat:\n",
    "        bits += str(pixel & 1)\n",
    "        if bits[-16:] == '1111111111111110':\n",
    "            break\n",
    "    byte_chunks = [bits[i:i+8] for i in range(0, len(bits)-16, 8)]\n",
    "    return bytes([int(b, 2) for b in byte_chunks])\n",
    "\n",
    "# === User Interaction ===\n",
    "input_message = input(\"Enter your secret message: \")\n",
    "original_key = input(\"Enter a password for encryption: \")\n",
    "cover_image = \"download.jpg\"\n",
    "output_image = \"stego_image.png\"\n",
    "\n",
    "# Encrypt and embed\n",
    "encrypted = encrypt_message(input_message, original_key)\n",
    "embed_data(cover_image, encrypted, output_image)\n",
    "\n",
    "# Re-enter key to view original message\n",
    "print(\"\\n🔁 Re-enter your password to unlock the message.\")\n",
    "reentered_key = input(\"Re-enter password: \")\n",
    "\n",
    "if hashlib.sha256(original_key.encode()).digest() == hashlib.sha256(reentered_key.encode()).digest():\n",
    "    extracted_bytes = extract_encrypted_data(output_image)\n",
    "    iv = extracted_bytes[:16]\n",
    "    ciphertext = extracted_bytes[16:]\n",
    "    key = hashlib.sha256(reentered_key.encode()).digest()\n",
    "    cipher = AES.new(key, AES.MODE_CBC, iv)\n",
    "    try:\n",
    "        decrypted = unpad(cipher.decrypt(ciphertext), AES.block_size).decode()\n",
    "        print(\"\\n🔓 Original message:\", decrypted)\n",
    "    except:\n",
    "        print(\"❌ Decryption failed. Encrypted data may be corrupted.\")\n",
    "else:\n",
    "    print(\"❌ Incorrect password. Cannot display the original message.\")\n"
   ]
  },
  {
   "cell_type": "code",
   "execution_count": null,
   "id": "67086d99-b139-40b6-bcf0-75fe8f781a54",
   "metadata": {},
   "outputs": [],
   "source": []
  }
 ],
 "metadata": {
  "kernelspec": {
   "display_name": "Python 3 (ipykernel)",
   "language": "python",
   "name": "python3"
  },
  "language_info": {
   "codemirror_mode": {
    "name": "ipython",
    "version": 3
   },
   "file_extension": ".py",
   "mimetype": "text/x-python",
   "name": "python",
   "nbconvert_exporter": "python",
   "pygments_lexer": "ipython3",
   "version": "3.12.7"
  }
 },
 "nbformat": 4,
 "nbformat_minor": 5
}
